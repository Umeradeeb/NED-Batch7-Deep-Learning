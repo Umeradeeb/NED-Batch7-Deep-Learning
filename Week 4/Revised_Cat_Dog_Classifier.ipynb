{
 "cells": [
  {
   "cell_type": "code",
   "execution_count": null,
   "id": "47f5006b",
   "metadata": {},
   "outputs": [],
   "source": [
    "# Step 1: Import Libraries\n",
    "import os\n",
    "import zipfile\n",
    "import matplotlib.pyplot as plt\n",
    "import tensorflow as tf\n",
    "from tensorflow.keras.models import Sequential\n",
    "from tensorflow.keras.layers import Conv2D, MaxPooling2D, Flatten, Dense, Dropout, BatchNormalization\n",
    "from tensorflow.keras.preprocessing.image import ImageDataGenerator\n",
    "from tensorflow.keras.callbacks import EarlyStopping, ModelCheckpoint"
   ]
  },
  {
   "cell_type": "code",
   "execution_count": null,
   "id": "bae30823",
   "metadata": {},
   "outputs": [],
   "source": [
    "# Step 2: Setup and Download Dataset\n",
    "!mkdir -p ~/.kaggle\n",
    "!cp kaggle.json ~/.kaggle/\n",
    "!chmod 600 ~/.kaggle/kaggle.json\n",
    "!kaggle datasets download -d salader/dogs-vs-cats"
   ]
  },
  {
   "cell_type": "code",
   "execution_count": null,
   "id": "9098355a",
   "metadata": {},
   "outputs": [],
   "source": [
    "with zipfile.ZipFile('/content/dogs-vs-cats.zip', 'r') as zip_ref:\n",
    "    zip_ref.extractall('/content')"
   ]
  },
  {
   "cell_type": "code",
   "execution_count": null,
   "id": "8ab77fb9",
   "metadata": {},
   "outputs": [],
   "source": [
    "# Step 3: Data Preprocessing and Augmentation\n",
    "train_datagen = ImageDataGenerator(\n",
    "    rescale=1./255,\n",
    "    validation_split=0.2,\n",
    "    rotation_range=15,\n",
    "    zoom_range=0.1,\n",
    "    width_shift_range=0.1,\n",
    "    height_shift_range=0.1,\n",
    "    horizontal_flip=True\n",
    ")"
   ]
  },
  {
   "cell_type": "code",
   "execution_count": null,
   "id": "9933ac25",
   "metadata": {},
   "outputs": [],
   "source": [
    "train_ds = train_datagen.flow_from_directory(\n",
    "    '/content/train',\n",
    "    target_size=(256, 256),\n",
    "    batch_size=32,\n",
    "    class_mode='binary',\n",
    "    subset='training'\n",
    ")"
   ]
  },
  {
   "cell_type": "code",
   "execution_count": null,
   "id": "1f5e52aa",
   "metadata": {},
   "outputs": [],
   "source": [
    "val_ds = train_datagen.flow_from_directory(\n",
    "    '/content/train',\n",
    "    target_size=(256, 256),\n",
    "    batch_size=32,\n",
    "    class_mode='binary',\n",
    "    subset='validation'\n",
    ")"
   ]
  },
  {
   "cell_type": "code",
   "execution_count": null,
   "id": "e6aba0f7",
   "metadata": {},
   "outputs": [],
   "source": [
    "# Step 4: Model Architecture\n",
    "model = Sequential([\n",
    "    Conv2D(32, (3, 3), activation='relu', padding='valid', input_shape=(256, 256, 3)),\n",
    "    BatchNormalization(),\n",
    "    MaxPooling2D((2, 2)),"
   ]
  },
  {
   "cell_type": "code",
   "execution_count": null,
   "id": "83f4cd08",
   "metadata": {},
   "outputs": [],
   "source": [
    "    Conv2D(64, (3, 3), activation='relu', padding='valid'),\n",
    "    BatchNormalization(),\n",
    "    MaxPooling2D((2, 2)),"
   ]
  },
  {
   "cell_type": "code",
   "execution_count": null,
   "id": "cec8489e",
   "metadata": {},
   "outputs": [],
   "source": [
    "    Conv2D(128, (3, 3), activation='relu', padding='valid'),\n",
    "    BatchNormalization(),\n",
    "    MaxPooling2D((2, 2)),"
   ]
  },
  {
   "cell_type": "code",
   "execution_count": null,
   "id": "327edbcc",
   "metadata": {},
   "outputs": [],
   "source": [
    "    Flatten(),\n",
    "    Dense(128, activation='relu'),\n",
    "    Dropout(0.1),\n",
    "    Dense(64, activation='relu'),\n",
    "    Dropout(0.1),\n",
    "    Dense(1, activation='sigmoid')\n",
    "])"
   ]
  },
  {
   "cell_type": "code",
   "execution_count": null,
   "id": "f9b538b2",
   "metadata": {},
   "outputs": [],
   "source": [
    "model.summary()"
   ]
  },
  {
   "cell_type": "code",
   "execution_count": null,
   "id": "51d739de",
   "metadata": {},
   "outputs": [],
   "source": [
    "# Step 5: Compile Model\n",
    "model.compile(optimizer='adam', loss='binary_crossentropy', metrics=['accuracy'])"
   ]
  },
  {
   "cell_type": "code",
   "execution_count": null,
   "id": "e6cd579c",
   "metadata": {},
   "outputs": [],
   "source": [
    "# Step 6: Setup Callbacks\n",
    "early_stop = EarlyStopping(monitor='val_loss', patience=3, restore_best_weights=True)\n",
    "checkpoint = ModelCheckpoint('best_model.h5', save_best_only=True)"
   ]
  },
  {
   "cell_type": "code",
   "execution_count": null,
   "id": "c28a8c6b",
   "metadata": {},
   "outputs": [],
   "source": [
    "# Step 7: Train Model\n",
    "history = model.fit(train_ds, epochs=10, validation_data=val_ds, callbacks=[early_stop, checkpoint])"
   ]
  },
  {
   "cell_type": "code",
   "execution_count": null,
   "id": "d1f4f914",
   "metadata": {},
   "outputs": [],
   "source": [
    "# Step 8: Evaluate & Plot\n",
    "plt.plot(history.history['accuracy'], label='Train Accuracy')\n",
    "plt.plot(history.history['val_accuracy'], label='Val Accuracy')\n",
    "plt.title('Model Accuracy Over Epochs')\n",
    "plt.xlabel('Epochs')\n",
    "plt.ylabel('Accuracy')\n",
    "plt.legend()\n",
    "plt.grid(True)\n",
    "plt.show()"
   ]
  }
 ],
 "metadata": {},
 "nbformat": 4,
 "nbformat_minor": 5
}
